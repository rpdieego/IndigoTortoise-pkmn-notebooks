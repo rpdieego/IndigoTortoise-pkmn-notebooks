{
  "nbformat": 4,
  "nbformat_minor": 0,
  "metadata": {
    "colab": {
      "name": "IndigoTortoise-pkmn.ipynb",
      "provenance": [],
      "authorship_tag": "ABX9TyPGhKf9sVxlOWBSKHawNCrJ",
      "include_colab_link": true
    },
    "kernelspec": {
      "name": "python3",
      "display_name": "Python 3"
    }
  },
  "cells": [
    {
      "cell_type": "markdown",
      "metadata": {
        "id": "view-in-github",
        "colab_type": "text"
      },
      "source": [
        "<a href=\"https://colab.research.google.com/github/rpdieego/IndigoTortoise-pkmn-notebooks/blob/master/IndigoTortoise_pkmn.ipynb\" target=\"_parent\"><img src=\"https://colab.research.google.com/assets/colab-badge.svg\" alt=\"Open In Colab\"/></a>"
      ]
    },
    {
      "cell_type": "markdown",
      "metadata": {
        "id": "Ku0qgZ8WrJYS",
        "colab_type": "text"
      },
      "source": [
        "# Indigo Tortoise \n",
        "\n",
        "**Diego Rosa**\n",
        "\n",
        "[Linkedin](https://www.linkedin.com/in/diego-rosa-93a49810a/) | [Github](https://github.com/rpdieego) | [Medium](https://medium.com/@rsprzdieego)\n",
        "\n",
        "[Indigo Tortoise](http://18.228.222.100/)\n"
      ]
    },
    {
      "cell_type": "markdown",
      "metadata": {
        "id": "TOv-nwkwrUNq",
        "colab_type": "text"
      },
      "source": [
        "## Notebook Summary\n",
        "\n",
        "*   1 - [What is Indigo Tortoise?](https://colab.research.google.com/drive/18LzTHbQnZPhSm-ehIQEepiPTqMLtG5zS#scrollTo=ncaJDBJsONk6)\n",
        "*   2 - [Data Understanding](https://colab.research.google.com/drive/18LzTHbQnZPhSm-ehIQEepiPTqMLtG5zS#scrollTo=VYv_9ZgLWbRW)\n",
        "*   3 - [Exploratory Data Analysis](https://colab.research.google.com/drive/18LzTHbQnZPhSm-ehIQEepiPTqMLtG5zS#scrollTo=bQtPWE6ngJ9v)\n",
        "   *   3.1 - [Categorical Features](https://colab.research.google.com/drive/18LzTHbQnZPhSm-ehIQEepiPTqMLtG5zS#scrollTo=p6LOLiNHKLqE)\n",
        "   *   3.2 - [Quantitative Features](https://colab.research.google.com/drive/18LzTHbQnZPhSm-ehIQEepiPTqMLtG5zS#scrollTo=bpS3QZ8rKbBq&line=1&uniqifier=1)\n",
        "   *   3.3 - [Extra Features for Business Analysis](https://colab.research.google.com/drive/18LzTHbQnZPhSm-ehIQEepiPTqMLtG5zS#scrollTo=rYT6f8pXmyG7)\n",
        "*   4 - [Customer Segmentation](https://colab.research.google.com/drive/18LzTHbQnZPhSm-ehIQEepiPTqMLtG5zS#scrollTo=8IzjUyOF5jy7&line=1&uniqifier=1)\n",
        "*   5 - [Customer Classification](https://colab.research.google.com/drive/18LzTHbQnZPhSm-ehIQEepiPTqMLtG5zS#scrollTo=xF_1WfbENHLa)\n",
        "*   6 - [Business Analysis](https://colab.research.google.com/drive/18LzTHbQnZPhSm-ehIQEepiPTqMLtG5zS#scrollTo=sU233x-2-znx&line=1&uniqifier=1)"
      ]
    },
    {
      "cell_type": "markdown",
      "metadata": {
        "id": "Q30ZOeD_rbET",
        "colab_type": "text"
      },
      "source": [
        "## 1) What is Indigo Tortoise?"
      ]
    },
    {
      "cell_type": "markdown",
      "metadata": {
        "id": "ggSf3qG3rl4g",
        "colab_type": "text"
      },
      "source": [
        "**The Company**\n",
        "\n",
        "Consider a well-established company operating in the retail food sector. Presently they have around several hundred thousands of registered customers and serve almost one million consumers a year. They sell products from 5 major categories: **wines**, rare **meat** products, exotic **fruits**, specially prepared **fish** and **sweet products**. These can further be divided into  ***gold* and regular products**. The customers can order and acquire products through **3 sales channels**: **physical stores**, **catalogs** and **company’s website**. Globally, the company had **solid revenues and a healthy bottom line in the past 3 years**, but the **profit growth perspectives for the next 3 years are not promising...** For this reason, several strategic initiatives are being considered to invert this situation. One is to improve the performance of marketing activities, with a special focus on marketing campaigns."
      ]
    },
    {
      "cell_type": "markdown",
      "metadata": {
        "id": "bPduQ_dQsD5Z",
        "colab_type": "text"
      },
      "source": [
        "## 2) Data Understanding"
      ]
    },
    {
      "cell_type": "markdown",
      "metadata": {
        "id": "GKqDF6iovsci",
        "colab_type": "text"
      },
      "source": [
        "The data set contains socio-demographic and firmographic features about 2.240 customers who were contacted. Additionally, it contains a flag for those customers who responded the campaign, by buying the product. \n",
        "\n",
        "## Data Dictionaries\n",
        "\n",
        "### Pokemon Dataset\n",
        "\n",
        "*   **#** - Pokemon Index;\n",
        "   *   *(Not the same used in the original franchise lists, as Mega Evolutions are list right after the pokemon on it's normal form)*\n",
        "*   **Name** - Pokemon's Name;\n",
        "*   **Type 1** - Pokemon's primary type;\n",
        "*   **Type 2** - Pokemon's secondary type;\n",
        "   *   *(All pokemons have a primary type, but not necessary a second one )*\n",
        "*   **HP** - Health Points base stats;\n",
        "*   **Attack** - Phisycal Attack base stats;\n",
        "*   **Defense** - Phisycal Defese base stats;\n",
        "*   **Sp. Atk** - Special Attack base stats;\n",
        "*   **Sp. Def** - Special Defense base stats;\n",
        "*   **Speed** - Speed base stats;\n",
        "*   **Generation** - Which generation of the Nintendo franchise games this pokemon belongs;\n",
        "*   **Legendary** - Indicates if the pokemon belong to the legendary group;\n",
        "   *   *(Legendary pokemons have higher base stats, so normally they are not allowed to be used in competitive battles - there's a special category of battles where this Pokemons are allowed, called **uber** )*\n",
        "\n",
        "\n",
        "---\n",
        "\n",
        "### Combats Dataset\n",
        "\n",
        "\n",
        "*   **First_Pokemon** - Trainer A's Pokémon **#** (index);\n",
        "   *   *(Not the same used in the original franchise lists, as Mega Evolutions are list right after the pokemon on it's normal form)*\n",
        "*   **Second_pokemon** - Trainer B's Pokémon **#** (index);\n",
        "*   **Winner** - **#** (index) of the Pokémon which have won the battle;\n",
        "\n",
        "---\n",
        "\n",
        "\n",
        "\n",
        "\n",
        "\n",
        "\n",
        "\n",
        "\n",
        "\n"
      ]
    },
    {
      "cell_type": "markdown",
      "metadata": {
        "id": "yLbiir1hRgyp",
        "colab_type": "text"
      },
      "source": [
        "###Types Dataset\n",
        "\n",
        "Types are like 'elements' related to the Pokémon's nature. They are related in a way that, some types are strong, weak or even imune to a certain type. These atributes are used to calculate the damage the Pokémon's attack inflicts to the other Pokémon during a battle.\n",
        "\n",
        "Untill the last generation released, the Pokémon types are:\n",
        "\n",
        "\n",
        "![texto alternativo](https://github.com/rpdieego/IndigoTortoise-pkmn-notebooks/blob/master/PokemonTypes.png?raw=true)\n",
        "\n",
        "Types dataset represents the strenght and weakness of each type. Each row represent the **Attacker** type, while the columns represent the **Defender** type. The values on each cell of the matrix represent the damage multiplier.\n",
        "\n",
        "**Example given:** At the second row, we have a **Fire type attacking Pokémon**. Then, it's possible to check which Pokémon types a fire Pokémon is strong against checking the columns on this row. We see that fire types is very effective against **Grass**, **Ice**, **Bug** and **Steel**, while is not very effective agains **Fire**, **Water**, **Rock** and **Dragon** types.\n",
        "\n",
        "When looking at the attacker perspective, we have four possible values for the damage multipliers:\n",
        "\n",
        "*   **Very Effective** - Damage Multiplier: 2x;\n",
        "*   **Neutral** - Damage Multiplier: 1x;\n",
        "*   **Not Very Effective** - Damage Multiplier: 0.5x;\n",
        "*   **Does not Affect** - Damage Multiplier: 0x;\n",
        "\n",
        "The image below is a graphical representation of the Types Dataset content:\n",
        "\n",
        "![texto alternativo](https://github.com/rpdieego/IndigoTortoise-pkmn-notebooks/blob/master/Types_Table.PNG?raw=true)\n",
        "\n",
        "\n"
      ]
    },
    {
      "cell_type": "markdown",
      "metadata": {
        "id": "pBa2ja9bsO8g",
        "colab_type": "text"
      },
      "source": [
        "## 3) Exploratory Data Analysis (EDA)"
      ]
    },
    {
      "cell_type": "code",
      "metadata": {
        "id": "iiELqRfjsT-2",
        "colab_type": "code",
        "colab": {
          "base_uri": "https://localhost:8080/",
          "height": 71
        },
        "outputId": "e6ca902f-9e1e-424f-e0fd-6d365811dbcb"
      },
      "source": [
        "# import relevant libraries\n",
        "\n",
        "import pandas as pd\n",
        "\n",
        "import matplotlib.pyplot as plt\n",
        "%matplotlib inline\n",
        "import seaborn as sns\n",
        "import numpy as np"
      ],
      "execution_count": 2,
      "outputs": [
        {
          "output_type": "stream",
          "text": [
            "/usr/local/lib/python3.6/dist-packages/statsmodels/tools/_testing.py:19: FutureWarning: pandas.util.testing is deprecated. Use the functions in the public API at pandas.testing instead.\n",
            "  import pandas.util.testing as tm\n"
          ],
          "name": "stderr"
        }
      ]
    },
    {
      "cell_type": "code",
      "metadata": {
        "id": "yqxYfIwGsoUv",
        "colab_type": "code",
        "colab": {
          "base_uri": "https://localhost:8080/",
          "height": 357
        },
        "outputId": "dc427049-1ee7-48de-aec3-952dce8007f1"
      },
      "source": [
        "# import .csv files\n",
        "\n",
        "pkmn_url = 'https://raw.githubusercontent.com/rpdieego/IndigoTortoise-pkmn-notebooks/master/datasets_2619_4359_pokemon.csv'\n",
        "combats_url = 'https://raw.githubusercontent.com/rpdieego/IndigoTortoise-pkmn-notebooks/master/datasets_2619_4359_combats.csv'\n",
        "tests_url = 'https://raw.githubusercontent.com/rpdieego/IndigoTortoise-pkmn-notebooks/master/datasets_2619_4359_tests.csv'\n",
        "types_url = 'https://raw.githubusercontent.com/rpdieego/IndigoTortoise-pkmn-notebooks/master/types.csv'\n",
        "\n",
        "pkmn_df = pd.read_csv(pkmn_url)\n",
        "combats_df = pd.read_csv(combats_url)\n",
        "tests_df = pd.read_csv(tests_url)\n",
        "types_df = pd.read_csv(types_url)\n",
        "\n",
        "# Checking the dimensions of each dataframe\n",
        "\n",
        "print('Pokemon dataframe (pkmn_df): \\n Features: \\t {} \\n Inputs: \\t {}'.format(pkmn_df.shape[1], pkmn_df.shape[0]))\n",
        "print('\\n')\n",
        "print('Combats dataframe (combats_df): \\n Features: \\t {} \\n Inputs: \\t {}'.format(combats_df.shape[1], combats_df.shape[0]))\n",
        "print('\\n')\n",
        "print('Tests dataframe (tests_df): \\n Features: \\t {} \\n Inputs: \\t {}'.format(tests_df.shape[1], tests_df.shape[0]))\n",
        "print('\\n')\n",
        "print('Types dataframe (types_df): \\n Features: \\t {} \\n Inputs: \\t {}'.format(types_df.shape[1], types_df.shape[0]))\n",
        "print('\\n')\n"
      ],
      "execution_count": 3,
      "outputs": [
        {
          "output_type": "stream",
          "text": [
            "Pokemon dataframe (pkmn_df): \n",
            " Features: \t 12 \n",
            " Inputs: \t 800\n",
            "\n",
            "\n",
            "Combats dataframe (combats_df): \n",
            " Features: \t 3 \n",
            " Inputs: \t 50000\n",
            "\n",
            "\n",
            "Tests dataframe (tests_df): \n",
            " Features: \t 2 \n",
            " Inputs: \t 10000\n",
            "\n",
            "\n",
            "Types dataframe (types_df): \n",
            " Features: \t 19 \n",
            " Inputs: \t 18\n",
            "\n",
            "\n"
          ],
          "name": "stdout"
        }
      ]
    },
    {
      "cell_type": "code",
      "metadata": {
        "id": "kwMbygv5tqjd",
        "colab_type": "code",
        "colab": {
          "base_uri": "https://localhost:8080/",
          "height": 204
        },
        "outputId": "87cbef50-548a-446b-d1ab-8dabaf4c62cb"
      },
      "source": [
        "# Check pkmn_df's head\n",
        "pkmn_df.head()"
      ],
      "execution_count": 4,
      "outputs": [
        {
          "output_type": "execute_result",
          "data": {
            "text/html": [
              "<div>\n",
              "<style scoped>\n",
              "    .dataframe tbody tr th:only-of-type {\n",
              "        vertical-align: middle;\n",
              "    }\n",
              "\n",
              "    .dataframe tbody tr th {\n",
              "        vertical-align: top;\n",
              "    }\n",
              "\n",
              "    .dataframe thead th {\n",
              "        text-align: right;\n",
              "    }\n",
              "</style>\n",
              "<table border=\"1\" class=\"dataframe\">\n",
              "  <thead>\n",
              "    <tr style=\"text-align: right;\">\n",
              "      <th></th>\n",
              "      <th>#</th>\n",
              "      <th>Name</th>\n",
              "      <th>Type 1</th>\n",
              "      <th>Type 2</th>\n",
              "      <th>HP</th>\n",
              "      <th>Attack</th>\n",
              "      <th>Defense</th>\n",
              "      <th>Sp. Atk</th>\n",
              "      <th>Sp. Def</th>\n",
              "      <th>Speed</th>\n",
              "      <th>Generation</th>\n",
              "      <th>Legendary</th>\n",
              "    </tr>\n",
              "  </thead>\n",
              "  <tbody>\n",
              "    <tr>\n",
              "      <th>0</th>\n",
              "      <td>1</td>\n",
              "      <td>Bulbasaur</td>\n",
              "      <td>Grass</td>\n",
              "      <td>Poison</td>\n",
              "      <td>45</td>\n",
              "      <td>49</td>\n",
              "      <td>49</td>\n",
              "      <td>65</td>\n",
              "      <td>65</td>\n",
              "      <td>45</td>\n",
              "      <td>1</td>\n",
              "      <td>False</td>\n",
              "    </tr>\n",
              "    <tr>\n",
              "      <th>1</th>\n",
              "      <td>2</td>\n",
              "      <td>Ivysaur</td>\n",
              "      <td>Grass</td>\n",
              "      <td>Poison</td>\n",
              "      <td>60</td>\n",
              "      <td>62</td>\n",
              "      <td>63</td>\n",
              "      <td>80</td>\n",
              "      <td>80</td>\n",
              "      <td>60</td>\n",
              "      <td>1</td>\n",
              "      <td>False</td>\n",
              "    </tr>\n",
              "    <tr>\n",
              "      <th>2</th>\n",
              "      <td>3</td>\n",
              "      <td>Venusaur</td>\n",
              "      <td>Grass</td>\n",
              "      <td>Poison</td>\n",
              "      <td>80</td>\n",
              "      <td>82</td>\n",
              "      <td>83</td>\n",
              "      <td>100</td>\n",
              "      <td>100</td>\n",
              "      <td>80</td>\n",
              "      <td>1</td>\n",
              "      <td>False</td>\n",
              "    </tr>\n",
              "    <tr>\n",
              "      <th>3</th>\n",
              "      <td>4</td>\n",
              "      <td>Mega Venusaur</td>\n",
              "      <td>Grass</td>\n",
              "      <td>Poison</td>\n",
              "      <td>80</td>\n",
              "      <td>100</td>\n",
              "      <td>123</td>\n",
              "      <td>122</td>\n",
              "      <td>120</td>\n",
              "      <td>80</td>\n",
              "      <td>1</td>\n",
              "      <td>False</td>\n",
              "    </tr>\n",
              "    <tr>\n",
              "      <th>4</th>\n",
              "      <td>5</td>\n",
              "      <td>Charmander</td>\n",
              "      <td>Fire</td>\n",
              "      <td>NaN</td>\n",
              "      <td>39</td>\n",
              "      <td>52</td>\n",
              "      <td>43</td>\n",
              "      <td>60</td>\n",
              "      <td>50</td>\n",
              "      <td>65</td>\n",
              "      <td>1</td>\n",
              "      <td>False</td>\n",
              "    </tr>\n",
              "  </tbody>\n",
              "</table>\n",
              "</div>"
            ],
            "text/plain": [
              "   #           Name Type 1  Type 2  ...  Sp. Def  Speed  Generation  Legendary\n",
              "0  1      Bulbasaur  Grass  Poison  ...       65     45           1      False\n",
              "1  2        Ivysaur  Grass  Poison  ...       80     60           1      False\n",
              "2  3       Venusaur  Grass  Poison  ...      100     80           1      False\n",
              "3  4  Mega Venusaur  Grass  Poison  ...      120     80           1      False\n",
              "4  5     Charmander   Fire     NaN  ...       50     65           1      False\n",
              "\n",
              "[5 rows x 12 columns]"
            ]
          },
          "metadata": {
            "tags": []
          },
          "execution_count": 4
        }
      ]
    },
    {
      "cell_type": "code",
      "metadata": {
        "id": "dPehK4p3uasi",
        "colab_type": "code",
        "colab": {
          "base_uri": "https://localhost:8080/",
          "height": 204
        },
        "outputId": "58e8b5c2-86ff-4a92-dca8-c2f55f936cb2"
      },
      "source": [
        "# Check combats_df's head\n",
        "combats_df.head()"
      ],
      "execution_count": 5,
      "outputs": [
        {
          "output_type": "execute_result",
          "data": {
            "text/html": [
              "<div>\n",
              "<style scoped>\n",
              "    .dataframe tbody tr th:only-of-type {\n",
              "        vertical-align: middle;\n",
              "    }\n",
              "\n",
              "    .dataframe tbody tr th {\n",
              "        vertical-align: top;\n",
              "    }\n",
              "\n",
              "    .dataframe thead th {\n",
              "        text-align: right;\n",
              "    }\n",
              "</style>\n",
              "<table border=\"1\" class=\"dataframe\">\n",
              "  <thead>\n",
              "    <tr style=\"text-align: right;\">\n",
              "      <th></th>\n",
              "      <th>First_pokemon</th>\n",
              "      <th>Second_pokemon</th>\n",
              "      <th>Winner</th>\n",
              "    </tr>\n",
              "  </thead>\n",
              "  <tbody>\n",
              "    <tr>\n",
              "      <th>0</th>\n",
              "      <td>266</td>\n",
              "      <td>298</td>\n",
              "      <td>298</td>\n",
              "    </tr>\n",
              "    <tr>\n",
              "      <th>1</th>\n",
              "      <td>702</td>\n",
              "      <td>701</td>\n",
              "      <td>701</td>\n",
              "    </tr>\n",
              "    <tr>\n",
              "      <th>2</th>\n",
              "      <td>191</td>\n",
              "      <td>668</td>\n",
              "      <td>668</td>\n",
              "    </tr>\n",
              "    <tr>\n",
              "      <th>3</th>\n",
              "      <td>237</td>\n",
              "      <td>683</td>\n",
              "      <td>683</td>\n",
              "    </tr>\n",
              "    <tr>\n",
              "      <th>4</th>\n",
              "      <td>151</td>\n",
              "      <td>231</td>\n",
              "      <td>151</td>\n",
              "    </tr>\n",
              "  </tbody>\n",
              "</table>\n",
              "</div>"
            ],
            "text/plain": [
              "   First_pokemon  Second_pokemon  Winner\n",
              "0            266             298     298\n",
              "1            702             701     701\n",
              "2            191             668     668\n",
              "3            237             683     683\n",
              "4            151             231     151"
            ]
          },
          "metadata": {
            "tags": []
          },
          "execution_count": 5
        }
      ]
    },
    {
      "cell_type": "code",
      "metadata": {
        "id": "dMz4mU5w0E6h",
        "colab_type": "code",
        "colab": {
          "base_uri": "https://localhost:8080/",
          "height": 607
        },
        "outputId": "e87a4e32-9441-425d-ca06-7a644f5fa3a3"
      },
      "source": [
        "# Check types_df\n",
        "types_df"
      ],
      "execution_count": 6,
      "outputs": [
        {
          "output_type": "execute_result",
          "data": {
            "text/html": [
              "<div>\n",
              "<style scoped>\n",
              "    .dataframe tbody tr th:only-of-type {\n",
              "        vertical-align: middle;\n",
              "    }\n",
              "\n",
              "    .dataframe tbody tr th {\n",
              "        vertical-align: top;\n",
              "    }\n",
              "\n",
              "    .dataframe thead th {\n",
              "        text-align: right;\n",
              "    }\n",
              "</style>\n",
              "<table border=\"1\" class=\"dataframe\">\n",
              "  <thead>\n",
              "    <tr style=\"text-align: right;\">\n",
              "      <th></th>\n",
              "      <th>Type</th>\n",
              "      <th>Normal</th>\n",
              "      <th>Fire</th>\n",
              "      <th>Water</th>\n",
              "      <th>Electric</th>\n",
              "      <th>Grass</th>\n",
              "      <th>Ice</th>\n",
              "      <th>Fighting</th>\n",
              "      <th>Poison</th>\n",
              "      <th>Ground</th>\n",
              "      <th>Flying</th>\n",
              "      <th>Psychic</th>\n",
              "      <th>Bug</th>\n",
              "      <th>Rock</th>\n",
              "      <th>Ghost</th>\n",
              "      <th>Dragon</th>\n",
              "      <th>Dark</th>\n",
              "      <th>Steel</th>\n",
              "      <th>Fairy</th>\n",
              "    </tr>\n",
              "  </thead>\n",
              "  <tbody>\n",
              "    <tr>\n",
              "      <th>0</th>\n",
              "      <td>Normal</td>\n",
              "      <td>1</td>\n",
              "      <td>1.0</td>\n",
              "      <td>1.0</td>\n",
              "      <td>1.0</td>\n",
              "      <td>1.0</td>\n",
              "      <td>1.0</td>\n",
              "      <td>1.0</td>\n",
              "      <td>1.0</td>\n",
              "      <td>1.0</td>\n",
              "      <td>1.0</td>\n",
              "      <td>1.0</td>\n",
              "      <td>1.0</td>\n",
              "      <td>0.5</td>\n",
              "      <td>0.0</td>\n",
              "      <td>1.0</td>\n",
              "      <td>1.0</td>\n",
              "      <td>0.5</td>\n",
              "      <td>1.0</td>\n",
              "    </tr>\n",
              "    <tr>\n",
              "      <th>1</th>\n",
              "      <td>Fire</td>\n",
              "      <td>1</td>\n",
              "      <td>0.5</td>\n",
              "      <td>0.5</td>\n",
              "      <td>1.0</td>\n",
              "      <td>2.0</td>\n",
              "      <td>2.0</td>\n",
              "      <td>1.0</td>\n",
              "      <td>1.0</td>\n",
              "      <td>1.0</td>\n",
              "      <td>1.0</td>\n",
              "      <td>1.0</td>\n",
              "      <td>2.0</td>\n",
              "      <td>0.5</td>\n",
              "      <td>1.0</td>\n",
              "      <td>0.5</td>\n",
              "      <td>1.0</td>\n",
              "      <td>2.0</td>\n",
              "      <td>1.0</td>\n",
              "    </tr>\n",
              "    <tr>\n",
              "      <th>2</th>\n",
              "      <td>Water</td>\n",
              "      <td>1</td>\n",
              "      <td>2.0</td>\n",
              "      <td>0.5</td>\n",
              "      <td>1.0</td>\n",
              "      <td>0.5</td>\n",
              "      <td>1.0</td>\n",
              "      <td>1.0</td>\n",
              "      <td>1.0</td>\n",
              "      <td>2.0</td>\n",
              "      <td>1.0</td>\n",
              "      <td>1.0</td>\n",
              "      <td>1.0</td>\n",
              "      <td>2.0</td>\n",
              "      <td>1.0</td>\n",
              "      <td>0.5</td>\n",
              "      <td>1.0</td>\n",
              "      <td>1.0</td>\n",
              "      <td>1.0</td>\n",
              "    </tr>\n",
              "    <tr>\n",
              "      <th>3</th>\n",
              "      <td>Electric</td>\n",
              "      <td>1</td>\n",
              "      <td>1.0</td>\n",
              "      <td>2.0</td>\n",
              "      <td>0.5</td>\n",
              "      <td>0.5</td>\n",
              "      <td>1.0</td>\n",
              "      <td>1.0</td>\n",
              "      <td>1.0</td>\n",
              "      <td>0.0</td>\n",
              "      <td>2.0</td>\n",
              "      <td>1.0</td>\n",
              "      <td>1.0</td>\n",
              "      <td>1.0</td>\n",
              "      <td>1.0</td>\n",
              "      <td>0.5</td>\n",
              "      <td>1.0</td>\n",
              "      <td>1.0</td>\n",
              "      <td>1.0</td>\n",
              "    </tr>\n",
              "    <tr>\n",
              "      <th>4</th>\n",
              "      <td>Grass</td>\n",
              "      <td>1</td>\n",
              "      <td>0.5</td>\n",
              "      <td>2.0</td>\n",
              "      <td>1.0</td>\n",
              "      <td>0.5</td>\n",
              "      <td>1.0</td>\n",
              "      <td>1.0</td>\n",
              "      <td>0.5</td>\n",
              "      <td>2.0</td>\n",
              "      <td>0.5</td>\n",
              "      <td>1.0</td>\n",
              "      <td>0.5</td>\n",
              "      <td>2.0</td>\n",
              "      <td>1.0</td>\n",
              "      <td>0.5</td>\n",
              "      <td>1.0</td>\n",
              "      <td>0.5</td>\n",
              "      <td>1.0</td>\n",
              "    </tr>\n",
              "    <tr>\n",
              "      <th>5</th>\n",
              "      <td>Ice</td>\n",
              "      <td>1</td>\n",
              "      <td>0.5</td>\n",
              "      <td>0.5</td>\n",
              "      <td>1.0</td>\n",
              "      <td>2.0</td>\n",
              "      <td>0.5</td>\n",
              "      <td>1.0</td>\n",
              "      <td>1.0</td>\n",
              "      <td>2.0</td>\n",
              "      <td>2.0</td>\n",
              "      <td>1.0</td>\n",
              "      <td>1.0</td>\n",
              "      <td>1.0</td>\n",
              "      <td>1.0</td>\n",
              "      <td>2.0</td>\n",
              "      <td>1.0</td>\n",
              "      <td>0.5</td>\n",
              "      <td>1.0</td>\n",
              "    </tr>\n",
              "    <tr>\n",
              "      <th>6</th>\n",
              "      <td>Fighting</td>\n",
              "      <td>2</td>\n",
              "      <td>0.0</td>\n",
              "      <td>1.0</td>\n",
              "      <td>1.0</td>\n",
              "      <td>1.0</td>\n",
              "      <td>2.0</td>\n",
              "      <td>1.0</td>\n",
              "      <td>0.5</td>\n",
              "      <td>1.0</td>\n",
              "      <td>0.5</td>\n",
              "      <td>0.5</td>\n",
              "      <td>0.5</td>\n",
              "      <td>2.0</td>\n",
              "      <td>1.0</td>\n",
              "      <td>1.0</td>\n",
              "      <td>2.0</td>\n",
              "      <td>2.0</td>\n",
              "      <td>0.5</td>\n",
              "    </tr>\n",
              "    <tr>\n",
              "      <th>7</th>\n",
              "      <td>Poison</td>\n",
              "      <td>1</td>\n",
              "      <td>1.0</td>\n",
              "      <td>1.0</td>\n",
              "      <td>1.0</td>\n",
              "      <td>2.0</td>\n",
              "      <td>1.0</td>\n",
              "      <td>1.0</td>\n",
              "      <td>0.5</td>\n",
              "      <td>0.5</td>\n",
              "      <td>1.0</td>\n",
              "      <td>1.0</td>\n",
              "      <td>1.0</td>\n",
              "      <td>0.5</td>\n",
              "      <td>0.5</td>\n",
              "      <td>1.0</td>\n",
              "      <td>1.0</td>\n",
              "      <td>0.0</td>\n",
              "      <td>2.0</td>\n",
              "    </tr>\n",
              "    <tr>\n",
              "      <th>8</th>\n",
              "      <td>Ground</td>\n",
              "      <td>1</td>\n",
              "      <td>2.0</td>\n",
              "      <td>1.0</td>\n",
              "      <td>2.0</td>\n",
              "      <td>0.5</td>\n",
              "      <td>1.0</td>\n",
              "      <td>1.0</td>\n",
              "      <td>2.0</td>\n",
              "      <td>1.0</td>\n",
              "      <td>0.0</td>\n",
              "      <td>1.0</td>\n",
              "      <td>0.5</td>\n",
              "      <td>2.0</td>\n",
              "      <td>1.0</td>\n",
              "      <td>1.0</td>\n",
              "      <td>1.0</td>\n",
              "      <td>2.0</td>\n",
              "      <td>1.0</td>\n",
              "    </tr>\n",
              "    <tr>\n",
              "      <th>9</th>\n",
              "      <td>Flying</td>\n",
              "      <td>1</td>\n",
              "      <td>1.0</td>\n",
              "      <td>1.0</td>\n",
              "      <td>0.5</td>\n",
              "      <td>2.0</td>\n",
              "      <td>1.0</td>\n",
              "      <td>2.0</td>\n",
              "      <td>1.0</td>\n",
              "      <td>1.0</td>\n",
              "      <td>1.0</td>\n",
              "      <td>1.0</td>\n",
              "      <td>2.0</td>\n",
              "      <td>0.5</td>\n",
              "      <td>1.0</td>\n",
              "      <td>1.0</td>\n",
              "      <td>1.0</td>\n",
              "      <td>0.5</td>\n",
              "      <td>1.0</td>\n",
              "    </tr>\n",
              "    <tr>\n",
              "      <th>10</th>\n",
              "      <td>Psychic</td>\n",
              "      <td>1</td>\n",
              "      <td>1.0</td>\n",
              "      <td>1.0</td>\n",
              "      <td>1.0</td>\n",
              "      <td>1.0</td>\n",
              "      <td>1.0</td>\n",
              "      <td>2.0</td>\n",
              "      <td>2.0</td>\n",
              "      <td>1.0</td>\n",
              "      <td>1.0</td>\n",
              "      <td>0.5</td>\n",
              "      <td>1.0</td>\n",
              "      <td>1.0</td>\n",
              "      <td>1.0</td>\n",
              "      <td>1.0</td>\n",
              "      <td>0.0</td>\n",
              "      <td>0.5</td>\n",
              "      <td>1.0</td>\n",
              "    </tr>\n",
              "    <tr>\n",
              "      <th>11</th>\n",
              "      <td>Bug</td>\n",
              "      <td>1</td>\n",
              "      <td>0.5</td>\n",
              "      <td>1.0</td>\n",
              "      <td>1.0</td>\n",
              "      <td>1.0</td>\n",
              "      <td>1.0</td>\n",
              "      <td>0.5</td>\n",
              "      <td>1.0</td>\n",
              "      <td>1.0</td>\n",
              "      <td>0.5</td>\n",
              "      <td>2.0</td>\n",
              "      <td>1.0</td>\n",
              "      <td>1.0</td>\n",
              "      <td>0.5</td>\n",
              "      <td>1.0</td>\n",
              "      <td>2.0</td>\n",
              "      <td>0.5</td>\n",
              "      <td>0.5</td>\n",
              "    </tr>\n",
              "    <tr>\n",
              "      <th>12</th>\n",
              "      <td>Rock</td>\n",
              "      <td>1</td>\n",
              "      <td>2.0</td>\n",
              "      <td>1.0</td>\n",
              "      <td>1.0</td>\n",
              "      <td>1.0</td>\n",
              "      <td>2.0</td>\n",
              "      <td>0.5</td>\n",
              "      <td>0.5</td>\n",
              "      <td>0.5</td>\n",
              "      <td>2.0</td>\n",
              "      <td>1.0</td>\n",
              "      <td>2.0</td>\n",
              "      <td>1.0</td>\n",
              "      <td>1.0</td>\n",
              "      <td>1.0</td>\n",
              "      <td>1.0</td>\n",
              "      <td>0.5</td>\n",
              "      <td>1.0</td>\n",
              "    </tr>\n",
              "    <tr>\n",
              "      <th>13</th>\n",
              "      <td>Ghost</td>\n",
              "      <td>0</td>\n",
              "      <td>1.0</td>\n",
              "      <td>1.0</td>\n",
              "      <td>1.0</td>\n",
              "      <td>1.0</td>\n",
              "      <td>1.0</td>\n",
              "      <td>1.0</td>\n",
              "      <td>1.0</td>\n",
              "      <td>1.0</td>\n",
              "      <td>1.0</td>\n",
              "      <td>2.0</td>\n",
              "      <td>1.0</td>\n",
              "      <td>1.0</td>\n",
              "      <td>2.0</td>\n",
              "      <td>1.0</td>\n",
              "      <td>0.5</td>\n",
              "      <td>1.0</td>\n",
              "      <td>1.0</td>\n",
              "    </tr>\n",
              "    <tr>\n",
              "      <th>14</th>\n",
              "      <td>Dragon</td>\n",
              "      <td>1</td>\n",
              "      <td>1.0</td>\n",
              "      <td>1.0</td>\n",
              "      <td>1.0</td>\n",
              "      <td>1.0</td>\n",
              "      <td>1.0</td>\n",
              "      <td>1.0</td>\n",
              "      <td>1.0</td>\n",
              "      <td>1.0</td>\n",
              "      <td>1.0</td>\n",
              "      <td>1.0</td>\n",
              "      <td>1.0</td>\n",
              "      <td>1.0</td>\n",
              "      <td>1.0</td>\n",
              "      <td>2.0</td>\n",
              "      <td>1.0</td>\n",
              "      <td>0.5</td>\n",
              "      <td>0.0</td>\n",
              "    </tr>\n",
              "    <tr>\n",
              "      <th>15</th>\n",
              "      <td>Dark</td>\n",
              "      <td>1</td>\n",
              "      <td>1.0</td>\n",
              "      <td>1.0</td>\n",
              "      <td>1.0</td>\n",
              "      <td>1.0</td>\n",
              "      <td>1.0</td>\n",
              "      <td>0.5</td>\n",
              "      <td>1.0</td>\n",
              "      <td>1.0</td>\n",
              "      <td>1.0</td>\n",
              "      <td>2.0</td>\n",
              "      <td>1.0</td>\n",
              "      <td>1.0</td>\n",
              "      <td>2.0</td>\n",
              "      <td>1.0</td>\n",
              "      <td>0.5</td>\n",
              "      <td>1.0</td>\n",
              "      <td>0.5</td>\n",
              "    </tr>\n",
              "    <tr>\n",
              "      <th>16</th>\n",
              "      <td>Steel</td>\n",
              "      <td>1</td>\n",
              "      <td>0.5</td>\n",
              "      <td>0.5</td>\n",
              "      <td>0.5</td>\n",
              "      <td>1.0</td>\n",
              "      <td>2.0</td>\n",
              "      <td>1.0</td>\n",
              "      <td>1.0</td>\n",
              "      <td>1.0</td>\n",
              "      <td>1.0</td>\n",
              "      <td>1.0</td>\n",
              "      <td>1.0</td>\n",
              "      <td>2.0</td>\n",
              "      <td>1.0</td>\n",
              "      <td>1.0</td>\n",
              "      <td>1.0</td>\n",
              "      <td>0.5</td>\n",
              "      <td>2.0</td>\n",
              "    </tr>\n",
              "    <tr>\n",
              "      <th>17</th>\n",
              "      <td>Fairy</td>\n",
              "      <td>1</td>\n",
              "      <td>0.5</td>\n",
              "      <td>1.0</td>\n",
              "      <td>1.0</td>\n",
              "      <td>1.0</td>\n",
              "      <td>1.0</td>\n",
              "      <td>2.0</td>\n",
              "      <td>1.0</td>\n",
              "      <td>1.0</td>\n",
              "      <td>1.0</td>\n",
              "      <td>1.0</td>\n",
              "      <td>1.0</td>\n",
              "      <td>1.0</td>\n",
              "      <td>1.0</td>\n",
              "      <td>2.0</td>\n",
              "      <td>2.0</td>\n",
              "      <td>0.5</td>\n",
              "      <td>1.0</td>\n",
              "    </tr>\n",
              "  </tbody>\n",
              "</table>\n",
              "</div>"
            ],
            "text/plain": [
              "        Type  Normal  Fire  Water  Electric  ...  Ghost  Dragon  Dark  Steel  Fairy\n",
              "0     Normal       1   1.0    1.0       1.0  ...    0.0     1.0   1.0    0.5    1.0\n",
              "1       Fire       1   0.5    0.5       1.0  ...    1.0     0.5   1.0    2.0    1.0\n",
              "2      Water       1   2.0    0.5       1.0  ...    1.0     0.5   1.0    1.0    1.0\n",
              "3   Electric       1   1.0    2.0       0.5  ...    1.0     0.5   1.0    1.0    1.0\n",
              "4      Grass       1   0.5    2.0       1.0  ...    1.0     0.5   1.0    0.5    1.0\n",
              "5        Ice       1   0.5    0.5       1.0  ...    1.0     2.0   1.0    0.5    1.0\n",
              "6   Fighting       2   0.0    1.0       1.0  ...    1.0     1.0   2.0    2.0    0.5\n",
              "7     Poison       1   1.0    1.0       1.0  ...    0.5     1.0   1.0    0.0    2.0\n",
              "8     Ground       1   2.0    1.0       2.0  ...    1.0     1.0   1.0    2.0    1.0\n",
              "9     Flying       1   1.0    1.0       0.5  ...    1.0     1.0   1.0    0.5    1.0\n",
              "10   Psychic       1   1.0    1.0       1.0  ...    1.0     1.0   0.0    0.5    1.0\n",
              "11       Bug       1   0.5    1.0       1.0  ...    0.5     1.0   2.0    0.5    0.5\n",
              "12      Rock       1   2.0    1.0       1.0  ...    1.0     1.0   1.0    0.5    1.0\n",
              "13     Ghost       0   1.0    1.0       1.0  ...    2.0     1.0   0.5    1.0    1.0\n",
              "14    Dragon       1   1.0    1.0       1.0  ...    1.0     2.0   1.0    0.5    0.0\n",
              "15      Dark       1   1.0    1.0       1.0  ...    2.0     1.0   0.5    1.0    0.5\n",
              "16     Steel       1   0.5    0.5       0.5  ...    1.0     1.0   1.0    0.5    2.0\n",
              "17     Fairy       1   0.5    1.0       1.0  ...    1.0     2.0   2.0    0.5    1.0\n",
              "\n",
              "[18 rows x 19 columns]"
            ]
          },
          "metadata": {
            "tags": []
          },
          "execution_count": 6
        }
      ]
    },
    {
      "cell_type": "markdown",
      "metadata": {
        "id": "ex6_QSag4wSd",
        "colab_type": "text"
      },
      "source": [
        "#### Missing Values\n",
        "\n",
        "Checking if any of the datasets has massing values:"
      ]
    },
    {
      "cell_type": "code",
      "metadata": {
        "id": "axytQyRVOHqd",
        "colab_type": "code",
        "colab": {
          "base_uri": "https://localhost:8080/",
          "height": 238
        },
        "outputId": "9cb9c15c-a447-426b-ca8b-4498c35cd033"
      },
      "source": [
        "# Missing values pkmn_df\n",
        "pkmn_df.isnull().sum()"
      ],
      "execution_count": 7,
      "outputs": [
        {
          "output_type": "execute_result",
          "data": {
            "text/plain": [
              "#               0\n",
              "Name            1\n",
              "Type 1          0\n",
              "Type 2        386\n",
              "HP              0\n",
              "Attack          0\n",
              "Defense         0\n",
              "Sp. Atk         0\n",
              "Sp. Def         0\n",
              "Speed           0\n",
              "Generation      0\n",
              "Legendary       0\n",
              "dtype: int64"
            ]
          },
          "metadata": {
            "tags": []
          },
          "execution_count": 7
        }
      ]
    },
    {
      "cell_type": "markdown",
      "metadata": {
        "id": "jnUHYM9p6WxQ",
        "colab_type": "text"
      },
      "source": [
        "*   There's no reason to be concerned with missing values at the *Type 2* feature, since, as mentioned before, it's not mandatory for a Pokémon to have a secondary type;\n",
        "*   Besides that, I look like only one *Name* is missing - We shall check that during the data preprocessing step;"
      ]
    },
    {
      "cell_type": "code",
      "metadata": {
        "id": "7UbOvSwc5CVI",
        "colab_type": "code",
        "colab": {
          "base_uri": "https://localhost:8080/",
          "height": 85
        },
        "outputId": "1c68dd34-5b1c-45de-8c39-2e71af268701"
      },
      "source": [
        "# Missing values combats_df\n",
        "combats_df.isnull().sum()"
      ],
      "execution_count": 8,
      "outputs": [
        {
          "output_type": "execute_result",
          "data": {
            "text/plain": [
              "First_pokemon     0\n",
              "Second_pokemon    0\n",
              "Winner            0\n",
              "dtype: int64"
            ]
          },
          "metadata": {
            "tags": []
          },
          "execution_count": 8
        }
      ]
    },
    {
      "cell_type": "code",
      "metadata": {
        "id": "jXWs1sum5LvB",
        "colab_type": "code",
        "colab": {
          "base_uri": "https://localhost:8080/",
          "height": 68
        },
        "outputId": "d784ffec-2d29-42e1-c365-fb856f7092a5"
      },
      "source": [
        "# Missing values tests_df\n",
        "tests_df.isnull().sum()"
      ],
      "execution_count": 9,
      "outputs": [
        {
          "output_type": "execute_result",
          "data": {
            "text/plain": [
              "First_pokemon     0\n",
              "Second_pokemon    0\n",
              "dtype: int64"
            ]
          },
          "metadata": {
            "tags": []
          },
          "execution_count": 9
        }
      ]
    },
    {
      "cell_type": "code",
      "metadata": {
        "id": "0jv-hgMo5RdX",
        "colab_type": "code",
        "colab": {
          "base_uri": "https://localhost:8080/",
          "height": 357
        },
        "outputId": "c28b09b1-e41a-46e7-fd3a-d0dd940a7e54"
      },
      "source": [
        "# Missing values types_df\n",
        "types_df.isnull().sum()"
      ],
      "execution_count": 10,
      "outputs": [
        {
          "output_type": "execute_result",
          "data": {
            "text/plain": [
              "Type        0\n",
              "Normal      0\n",
              "Fire        0\n",
              "Water       0\n",
              "Electric    0\n",
              "Grass       0\n",
              "Ice         0\n",
              "Fighting    0\n",
              "Poison      0\n",
              "Ground      0\n",
              "Flying      0\n",
              "Psychic     0\n",
              "Bug         0\n",
              "Rock        0\n",
              "Ghost       0\n",
              "Dragon      0\n",
              "Dark        0\n",
              "Steel       0\n",
              "Fairy       0\n",
              "dtype: int64"
            ]
          },
          "metadata": {
            "tags": []
          },
          "execution_count": 10
        }
      ]
    },
    {
      "cell_type": "markdown",
      "metadata": {
        "id": "QDWrxRF0B51e",
        "colab_type": "text"
      },
      "source": [
        "#### 3.1) Pokémons by type\n",
        "\n",
        "*   How many Pokémons have a secondary type?\n",
        "*   Which is is most common primary type? How about the secondary?\n",
        "*   Generally speaking, which is the most common type?\n",
        "*   How about legendary Pokémon? Which are the most common types among them?"
      ]
    },
    {
      "cell_type": "code",
      "metadata": {
        "id": "se8yv_1xKo-W",
        "colab_type": "code",
        "colab": {}
      },
      "source": [
        "def check_type_entries(list_1,list2):\n",
        "  '''\n",
        "\n",
        "  '''\n",
        "  check = list(set(list_1).symmetric_difference(list2))\n",
        "  if len(check) == 0:\n",
        "    print('Elements on both lists match')\n",
        "  else:\n",
        "    print('These elements dont match! \\n {} '.format(check))\n"
      ],
      "execution_count": 11,
      "outputs": []
    },
    {
      "cell_type": "code",
      "metadata": {
        "id": "kMmK3p_BB8xk",
        "colab_type": "code",
        "colab": {
          "base_uri": "https://localhost:8080/",
          "height": 221
        },
        "outputId": "318dcb54-f84f-4625-c3a0-3d10b985b3df"
      },
      "source": [
        "#Check there are no fake / wrong entries on the types data\n",
        "type1_list = pkmn_df['Type 1'].unique()\n",
        "type2_list = pkmn_df[pkmn_df['Type 2'].isnull() == False]['Type 2'].unique()\n",
        "types_list = np.array(types_df['Type'])\n",
        "\n",
        "for l in [type1_list, type2_list]:\n",
        "  print('\\n Check Type list: {} \\n'.format(l))\n",
        "  check_type_entries(types_list,l)\n",
        " "
      ],
      "execution_count": 12,
      "outputs": [
        {
          "output_type": "stream",
          "text": [
            "\n",
            " Check Type list: ['Grass' 'Fire' 'Water' 'Bug' 'Normal' 'Poison' 'Electric' 'Ground'\n",
            " 'Fairy' 'Fighting' 'Psychic' 'Rock' 'Ghost' 'Ice' 'Dragon' 'Dark' 'Steel'\n",
            " 'Flying'] \n",
            "\n",
            "Elements on both lists match\n",
            "\n",
            " Check Type list: ['Poison' 'Flying' 'Dragon' 'Ground' 'Fairy' 'Grass' 'Fighting' 'Psychic'\n",
            " 'Steel' 'Ice' 'Rock' 'Dark' 'Water' 'Electric' 'Fire' 'Ghost' 'Bug'\n",
            " 'Normal'] \n",
            "\n",
            "Elements on both lists match\n"
          ],
          "name": "stdout"
        }
      ]
    },
    {
      "cell_type": "markdown",
      "metadata": {
        "id": "iCJRIw8jROsj",
        "colab_type": "text"
      },
      "source": [
        "*   Both *Type 1* and *Type 2* features have no typos or wrong entries"
      ]
    },
    {
      "cell_type": "markdown",
      "metadata": {
        "id": "w7lQjljCZdzf",
        "colab_type": "text"
      },
      "source": [
        "##### 3.1.1) How many Pokémons have a secondary type?"
      ]
    },
    {
      "cell_type": "code",
      "metadata": {
        "id": "8n0DGivECVHj",
        "colab_type": "code",
        "colab": {
          "base_uri": "https://localhost:8080/",
          "height": 34
        },
        "outputId": "84189971-91dc-482a-ecd7-6823a5be4d71"
      },
      "source": [
        "# How many Pokémon have a secondary type?\n",
        "\n",
        "type2_rate = (pkmn_df[pkmn_df['Type 2'].isnull() == False].shape[0] / pkmn_df.shape[0])*100\n",
        "print('{:.2f} % of the Pokémon has a secondary type'.format(type2_rate))\n"
      ],
      "execution_count": 13,
      "outputs": [
        {
          "output_type": "stream",
          "text": [
            "51.75 % of the Pokémon has a secondary type\n"
          ],
          "name": "stdout"
        }
      ]
    },
    {
      "cell_type": "markdown",
      "metadata": {
        "id": "jAJf8CqwZkWu",
        "colab_type": "text"
      },
      "source": [
        "3.1.2) Which is is most common primary type? How about the secondary?"
      ]
    },
    {
      "cell_type": "code",
      "metadata": {
        "id": "ZIXnNJQrJvKu",
        "colab_type": "code",
        "colab": {
          "base_uri": "https://localhost:8080/",
          "height": 427
        },
        "outputId": "05990241-fbaa-4710-e09f-9691e4f62552"
      },
      "source": [
        "sns.set()\n",
        "# Most common Type 1\n",
        "type1_qnt = pkmn_df['Type 1'].value_counts()\n",
        "plt.figure(figsize =(18,6));\n",
        "plt.title('Pokémon per type - Only type 1');\n",
        "type1_qnt.plot.bar();\n"
      ],
      "execution_count": 14,
      "outputs": [
        {
          "output_type": "display_data",
          "data": {
            "image/png": "[encoded data removed]",
            "text/plain": [
              "<Figure size 1296x432 with 1 Axes>"
            ]
          },
          "metadata": {
            "tags": []
          }
        }
      ]
    },
    {
      "cell_type": "code",
      "metadata": {
        "id": "nt4OKhh8KcqA",
        "colab_type": "code",
        "colab": {
          "base_uri": "https://localhost:8080/",
          "height": 427
        },
        "outputId": "22afb69a-f05c-4d56-d9a1-b0706272f9b3"
      },
      "source": [
        "# Most common Type 1\n",
        "type2_qnt = pkmn_df['Type 2'].value_counts()\n",
        "plt.figure(figsize =(18,6));\n",
        "plt.title('Pokémon per type - Only type 2');\n",
        "type2_qnt.plot.bar();"
      ],
      "execution_count": 15,
      "outputs": [
        {
          "output_type": "display_data",
          "data": {
            "image/png": "[encoded data removed]",
            "text/plain": [
              "<Figure size 1296x432 with 1 Axes>"
            ]
          },
          "metadata": {
            "tags": []
          }
        }
      ]
    },
    {
      "cell_type": "markdown",
      "metadata": {
        "id": "3S39iDushhHQ",
        "colab_type": "text"
      },
      "source": [
        "Interesting to see that the less common primeiry type, *Flying*, is the most common secondary type."
      ]
    },
    {
      "cell_type": "markdown",
      "metadata": {
        "id": "SfAZ4JF7ZqRf",
        "colab_type": "text"
      },
      "source": [
        "3.1.3) Generally speaking, which is the most common type?"
      ]
    },
    {
      "cell_type": "code",
      "metadata": {
        "id": "acOpIX_9OF85",
        "colab_type": "code",
        "colab": {
          "base_uri": "https://localhost:8080/",
          "height": 410
        },
        "outputId": "ce98c097-3c2b-425b-f792-671ae1f7793a"
      },
      "source": [
        "# Most common types\n",
        "\n",
        "type2_qnt.reindex(type1_qnt.index)\n",
        "type_qnt = (type1_qnt + type2_qnt).sort_values(ascending=False)\n",
        "plt.figure(figsize =(18,6));\n",
        "plt.title('Most common Pokémon type');\n",
        "plt.xlabel('Quantity')\n",
        "plt.ylabel('Type')\n",
        "ax = sns.barplot(y=type_qnt.index, x=type_qnt.values, palette = \"Blues_d\");\n",
        "\n"
      ],
      "execution_count": 16,
      "outputs": [
        {
          "output_type": "display_data",
          "data": {
            "image/png": "[encoded data removed]",
            "text/plain": [
              "<Figure size 1296x432 with 1 Axes>"
            ]
          },
          "metadata": {
            "tags": []
          }
        }
      ]
    },
    {
      "cell_type": "markdown",
      "metadata": {
        "id": "7rFf5PicZ0vm",
        "colab_type": "text"
      },
      "source": [
        "##### 3.1.4) How about legendary Pokémon? Which are the most common types among them?"
      ]
    },
    {
      "cell_type": "code",
      "metadata": {
        "id": "uOyr-ZeKW6N6",
        "colab_type": "code",
        "colab": {
          "base_uri": "https://localhost:8080/",
          "height": 410
        },
        "outputId": "29ffeada-45aa-4bfd-873a-3e8903960fac"
      },
      "source": [
        "lgd_type1_qnt = pkmn_df[pkmn_df['Legendary'] == True]['Type 1'].value_counts()\n",
        "lgd_type2_qnt = (pkmn_df[pkmn_df['Legendary'] == True]['Type 2'].value_counts()).reindex(lgd_type1_qnt.index).fillna(0)\n",
        "lgd_type_qnt = (lgd_type1_qnt + lgd_type2_qnt).sort_values(ascending=False)\n",
        "\n",
        "plt.figure(figsize =(18,6));\n",
        "plt.title('Most common Pokémon type');\n",
        "plt.xlabel('Quantity')\n",
        "plt.ylabel('Type')\n",
        "ax = sns.barplot(y=lgd_type_qnt.index, x=lgd_type_qnt.values, palette = \"Blues_d\");"
      ],
      "execution_count": 17,
      "outputs": [
        {
          "output_type": "display_data",
          "data": {
            "image/png": "[encoded data removed]",
            "text/plain": [
              "<Figure size 1296x432 with 1 Axes>"
            ]
          },
          "metadata": {
            "tags": []
          }
        }
      ]
    },
    {
      "cell_type": "code",
      "metadata": {
        "id": "Ad_-Fh7la3Dx",
        "colab_type": "code",
        "colab": {
          "base_uri": "https://localhost:8080/",
          "height": 51
        },
        "outputId": "15453f2a-e6eb-41cf-cc6b-fcb191b24ed3"
      },
      "source": [
        "# Which types have no representant among the legendary pokemon?\n",
        "check_type_entries(types_list,lgd_type_qnt.index)"
      ],
      "execution_count": 18,
      "outputs": [
        {
          "output_type": "stream",
          "text": [
            "These elements dont match! \n",
            " ['Bug', 'Fighting', 'Poison'] \n"
          ],
          "name": "stdout"
        }
      ]
    },
    {
      "cell_type": "markdown",
      "metadata": {
        "id": "Y2uOQLtmi8Wp",
        "colab_type": "text"
      },
      "source": [
        "#### 3.2) Status by type\n",
        "\n",
        "*   Which status is, in average, the strongest in terms of base stats?\n",
        "*   Which type is the best, in average, at each stat?"
      ]
    },
    {
      "cell_type": "code",
      "metadata": {
        "id": "63Gi6bjAoUdg",
        "colab_type": "code",
        "colab": {}
      },
      "source": [
        "def average_stats(stats_list):\n",
        "  '''\n",
        "  INPUT  (stats_list) - List of all pokemon stats\n",
        "\n",
        "  OUTPUT (avg_status) - List containing average value of each stat for\n",
        "                        the whole pokemon set\n",
        "  '''\n",
        "  \n",
        "  avg_status = []\n",
        "  for stat in stats_list:\n",
        "    avg = pkmn_df[stat].mean()\n",
        "    avg_status.append(avg)\n",
        "\n",
        "  return avg_status\n",
        "\n"
      ],
      "execution_count": 47,
      "outputs": []
    },
    {
      "cell_type": "code",
      "metadata": {
        "id": "UuQ6nJ37lM59",
        "colab_type": "code",
        "colab": {}
      },
      "source": [
        "def average_stats_per_type(type_list, stats_list):\n",
        "  '''\n",
        "  INPUT (type_list) - List of all pokemon types\n",
        "        (stats_list) - List of all pokemon stats\n",
        "\n",
        "  OUTPUT (avg_status) - List containing one list per pokemon type, where\n",
        "                        each list contains the average value of each stat\n",
        "                        for that specific pokemon type\n",
        "  '''\n",
        "\n",
        "  #List containing list of all average stats per type\n",
        "  avg_status = []\n",
        "  #iterate through all types\n",
        "  for t in type_list:\n",
        "    # List of average status for type \"t\"\n",
        "    avg_status_type = []\n",
        "    #iterate through all stats\n",
        "    for stat in stats_list:\n",
        "      #querry average status from original dataset\n",
        "      avg = pkmn_df[(pkmn_df['Type 1'] == t) \n",
        "                  | (pkmn_df['Type 2'] == t)][stat].mean()\n",
        "      avg_status_type.append(avg)\n",
        "    avg_status.append(avg_status_type)\n",
        "  \n",
        "  return avg_status\n"
      ],
      "execution_count": 48,
      "outputs": []
    },
    {
      "cell_type": "code",
      "metadata": {
        "id": "m0_e8ViPkiqP",
        "colab_type": "code",
        "colab": {}
      },
      "source": [
        "#List of all stats\n",
        "stats_list = ['HP', 'Attack', 'Defense', 'Sp. Atk', 'Sp. Def', 'Speed']\n",
        "\n",
        "#Average value of each status for all the pokemon\n",
        "avg_status = average_stats(stats_list)\n",
        "\n",
        "#Average stats for each type\n",
        "avg_types_stats = average_stats_per_type(types_list, stats_list)"
      ],
      "execution_count": 46,
      "outputs": []
    },
    {
      "cell_type": "code",
      "metadata": {
        "id": "C1Y9wHmUi-6F",
        "colab_type": "code",
        "colab": {
          "base_uri": "https://localhost:8080/",
          "height": 204
        },
        "outputId": "e0e79acd-e524-411f-9433-87c2f3b40165"
      },
      "source": [
        "pkmn_df.head()"
      ],
      "execution_count": 19,
      "outputs": [
        {
          "output_type": "execute_result",
          "data": {
            "text/html": [
              "<div>\n",
              "<style scoped>\n",
              "    .dataframe tbody tr th:only-of-type {\n",
              "        vertical-align: middle;\n",
              "    }\n",
              "\n",
              "    .dataframe tbody tr th {\n",
              "        vertical-align: top;\n",
              "    }\n",
              "\n",
              "    .dataframe thead th {\n",
              "        text-align: right;\n",
              "    }\n",
              "</style>\n",
              "<table border=\"1\" class=\"dataframe\">\n",
              "  <thead>\n",
              "    <tr style=\"text-align: right;\">\n",
              "      <th></th>\n",
              "      <th>#</th>\n",
              "      <th>Name</th>\n",
              "      <th>Type 1</th>\n",
              "      <th>Type 2</th>\n",
              "      <th>HP</th>\n",
              "      <th>Attack</th>\n",
              "      <th>Defense</th>\n",
              "      <th>Sp. Atk</th>\n",
              "      <th>Sp. Def</th>\n",
              "      <th>Speed</th>\n",
              "      <th>Generation</th>\n",
              "      <th>Legendary</th>\n",
              "    </tr>\n",
              "  </thead>\n",
              "  <tbody>\n",
              "    <tr>\n",
              "      <th>0</th>\n",
              "      <td>1</td>\n",
              "      <td>Bulbasaur</td>\n",
              "      <td>Grass</td>\n",
              "      <td>Poison</td>\n",
              "      <td>45</td>\n",
              "      <td>49</td>\n",
              "      <td>49</td>\n",
              "      <td>65</td>\n",
              "      <td>65</td>\n",
              "      <td>45</td>\n",
              "      <td>1</td>\n",
              "      <td>False</td>\n",
              "    </tr>\n",
              "    <tr>\n",
              "      <th>1</th>\n",
              "      <td>2</td>\n",
              "      <td>Ivysaur</td>\n",
              "      <td>Grass</td>\n",
              "      <td>Poison</td>\n",
              "      <td>60</td>\n",
              "      <td>62</td>\n",
              "      <td>63</td>\n",
              "      <td>80</td>\n",
              "      <td>80</td>\n",
              "      <td>60</td>\n",
              "      <td>1</td>\n",
              "      <td>False</td>\n",
              "    </tr>\n",
              "    <tr>\n",
              "      <th>2</th>\n",
              "      <td>3</td>\n",
              "      <td>Venusaur</td>\n",
              "      <td>Grass</td>\n",
              "      <td>Poison</td>\n",
              "      <td>80</td>\n",
              "      <td>82</td>\n",
              "      <td>83</td>\n",
              "      <td>100</td>\n",
              "      <td>100</td>\n",
              "      <td>80</td>\n",
              "      <td>1</td>\n",
              "      <td>False</td>\n",
              "    </tr>\n",
              "    <tr>\n",
              "      <th>3</th>\n",
              "      <td>4</td>\n",
              "      <td>Mega Venusaur</td>\n",
              "      <td>Grass</td>\n",
              "      <td>Poison</td>\n",
              "      <td>80</td>\n",
              "      <td>100</td>\n",
              "      <td>123</td>\n",
              "      <td>122</td>\n",
              "      <td>120</td>\n",
              "      <td>80</td>\n",
              "      <td>1</td>\n",
              "      <td>False</td>\n",
              "    </tr>\n",
              "    <tr>\n",
              "      <th>4</th>\n",
              "      <td>5</td>\n",
              "      <td>Charmander</td>\n",
              "      <td>Fire</td>\n",
              "      <td>NaN</td>\n",
              "      <td>39</td>\n",
              "      <td>52</td>\n",
              "      <td>43</td>\n",
              "      <td>60</td>\n",
              "      <td>50</td>\n",
              "      <td>65</td>\n",
              "      <td>1</td>\n",
              "      <td>False</td>\n",
              "    </tr>\n",
              "  </tbody>\n",
              "</table>\n",
              "</div>"
            ],
            "text/plain": [
              "   #           Name Type 1  Type 2  ...  Sp. Def  Speed  Generation  Legendary\n",
              "0  1      Bulbasaur  Grass  Poison  ...       65     45           1      False\n",
              "1  2        Ivysaur  Grass  Poison  ...       80     60           1      False\n",
              "2  3       Venusaur  Grass  Poison  ...      100     80           1      False\n",
              "3  4  Mega Venusaur  Grass  Poison  ...      120     80           1      False\n",
              "4  5     Charmander   Fire     NaN  ...       50     65           1      False\n",
              "\n",
              "[5 rows x 12 columns]"
            ]
          },
          "metadata": {
            "tags": []
          },
          "execution_count": 19
        }
      ]
    },
    {
      "cell_type": "code",
      "metadata": {
        "id": "3zh7oupnkbJA",
        "colab_type": "code",
        "colab": {}
      },
      "source": [
        ""
      ],
      "execution_count": 19,
      "outputs": []
    }
  ]
}