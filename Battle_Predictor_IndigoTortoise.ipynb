{
  "nbformat": 4,
  "nbformat_minor": 0,
  "metadata": {
    "colab": {
      "name": "Battle_Predictor_IndigoTortoise.ipynb",
      "provenance": [],
      "authorship_tag": "ABX9TyNFLMC8hUq9wzlt6ApgJ/3x",
      "include_colab_link": true
    },
    "kernelspec": {
      "name": "python3",
      "display_name": "Python 3"
    }
  },
  "cells": [
    {
      "cell_type": "markdown",
      "metadata": {
        "id": "view-in-github",
        "colab_type": "text"
      },
      "source": [
        "<a href=\"https://colab.research.google.com/github/rpdieego/IndigoTortoise-pkmn-notebooks/blob/master/Battle_Predictor_IndigoTortoise.ipynb\" target=\"_parent\"><img src=\"https://colab.research.google.com/assets/colab-badge.svg\" alt=\"Open In Colab\"/></a>"
      ]
    },
    {
      "cell_type": "markdown",
      "metadata": {
        "id": "LxvfGdrutHUo",
        "colab_type": "text"
      },
      "source": [
        ""
      ]
    },
    {
      "cell_type": "code",
      "metadata": {
        "id": "hgl3T10atIpe",
        "colab_type": "code",
        "colab": {}
      },
      "source": [
        "# import relevant libraries\n",
        "\n",
        "import pandas as pd\n",
        "import numpy as np\n",
        "\n",
        "%matplotlib inline\n",
        "import seaborn as sns\n",
        "\n",
        "\n",
        "\n",
        "\n",
        "\n"
      ],
      "execution_count": 2,
      "outputs": []
    },
    {
      "cell_type": "code",
      "metadata": {
        "id": "lmJ28kjctQtz",
        "colab_type": "code",
        "colab": {
          "base_uri": "https://localhost:8080/",
          "height": 442
        },
        "outputId": "124e3cf0-78c6-4659-dc78-1d818a921cbd"
      },
      "source": [
        "# import .csv files\n",
        "\n",
        "pkmn_url = 'https://raw.githubusercontent.com/rpdieego/IndigoTortoise-pkmn-notebooks/master/datasets_2619_4359_pokemon.csv'\n",
        "combats_url = 'https://raw.githubusercontent.com/rpdieego/IndigoTortoise-pkmn-notebooks/master/datasets_2619_4359_combats.csv'\n",
        "tests_url = 'https://raw.githubusercontent.com/rpdieego/IndigoTortoise-pkmn-notebooks/master/datasets_2619_4359_tests.csv'\n",
        "types_url = 'https://raw.githubusercontent.com/rpdieego/IndigoTortoise-pkmn-notebooks/master/types.csv'\n",
        "pkmn_combat_url = 'https://raw.githubusercontent.com/rpdieego/IndigoTortoise-pkmn-notebooks/master/pkmn_combat.csv'\n",
        "\n",
        "\n",
        "pkmn_df = pd.read_csv(pkmn_url)\n",
        "combats_df = pd.read_csv(combats_url)\n",
        "tests_df = pd.read_csv(tests_url)\n",
        "types_df = pd.read_csv(types_url)\n",
        "combat_data_df = pd.read_csv(pkmn_combat_url)\n",
        "\n",
        "# Checking the dimensions of each dataframe\n",
        "\n",
        "print('Pokemon dataframe (pkmn_df): \\n Features: \\t {} \\n Inputs: \\t {}'.format(pkmn_df.shape[1], pkmn_df.shape[0]))\n",
        "print('\\n')\n",
        "print('Combats dataframe (combats_df): \\n Features: \\t {} \\n Inputs: \\t {}'.format(combats_df.shape[1], combats_df.shape[0]))\n",
        "print('\\n')\n",
        "print('Tests dataframe (tests_df): \\n Features: \\t {} \\n Inputs: \\t {}'.format(tests_df.shape[1], tests_df.shape[0]))\n",
        "print('\\n')\n",
        "print('Types dataframe (types_df): \\n Features: \\t {} \\n Inputs: \\t {}'.format(types_df.shape[1], types_df.shape[0]))\n",
        "print('\\n')\n",
        "print('Combat dataframe (combat_data_df): \\n Features: \\t {} \\n Inputs: \\t {}'.format(combat_data_df.shape[1], combat_data_df.shape[0]))\n",
        "print('\\n')\n"
      ],
      "execution_count": 3,
      "outputs": [
        {
          "output_type": "stream",
          "text": [
            "Pokemon dataframe (pkmn_df): \n",
            " Features: \t 12 \n",
            " Inputs: \t 800\n",
            "\n",
            "\n",
            "Combats dataframe (combats_df): \n",
            " Features: \t 3 \n",
            " Inputs: \t 50000\n",
            "\n",
            "\n",
            "Tests dataframe (tests_df): \n",
            " Features: \t 2 \n",
            " Inputs: \t 10000\n",
            "\n",
            "\n",
            "Types dataframe (types_df): \n",
            " Features: \t 19 \n",
            " Inputs: \t 18\n",
            "\n",
            "\n",
            "Combat dataframe (combat_data_df): \n",
            " Features: \t 35 \n",
            " Inputs: \t 50000\n",
            "\n",
            "\n"
          ],
          "name": "stdout"
        }
      ]
    },
    {
      "cell_type": "code",
      "metadata": {
        "id": "G02910fPtm-U",
        "colab_type": "code",
        "colab": {}
      },
      "source": [
        ""
      ],
      "execution_count": null,
      "outputs": []
    }
  ]
}